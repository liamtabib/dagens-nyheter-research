{
 "cells": [
  {
   "cell_type": "code",
   "execution_count": null,
   "metadata": {},
   "outputs": [],
   "source": [
    "from kblab import Archive\n",
    "import requests\n",
    "from requests.auth import HTTPBasicAuth\n",
    "from pathlib import Path\n",
    "import multiprocessing\n",
    "import json\n",
    "import argparse\n",
    "\n",
    "def get_ids(pw):\n",
    "    \"\"\"Reads credentials to kblab API betalab and returns all matches in the API for the 'Dagens nyheter' search'\"\"\"\n",
    "    a = Archive('https://betalab.kb.se', auth=(\"demo\", pw))\n",
    "    ids = []\n",
    "    for package_id in a.search({'label': 'DAGENS NYHETER'}, max=20):\n",
    "        ids.append(package_id)\n",
    "    return ids"
   ]
  },
  {
   "cell_type": "code",
   "execution_count": null,
   "metadata": {},
   "outputs": [],
   "source": [
    "#TODO test that all tidningar in the API are in the corpus."
   ]
  },
  {
   "cell_type": "code",
   "execution_count": null,
   "metadata": {},
   "outputs": [],
   "source": [
    "#TODO unit test that all ids are unique"
   ]
  }
 ],
 "metadata": {
  "language_info": {
   "name": "python"
  },
  "orig_nbformat": 4
 },
 "nbformat": 4,
 "nbformat_minor": 2
}
