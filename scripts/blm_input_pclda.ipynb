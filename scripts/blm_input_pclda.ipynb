{
 "cells": [
  {
   "cell_type": "code",
   "execution_count": 47,
   "metadata": {},
   "outputs": [],
   "source": [
    "import pandas as pd\n",
    "from lxml import etree\n",
    "import xml.etree.ElementTree as ET\n",
    "from pathlib import Path\n",
    "metadata=pd.read_csv('/home/westac/Documents/blm/corpus/metadata/edition.csv')"
   ]
  },
  {
   "cell_type": "code",
   "execution_count": 48,
   "metadata": {},
   "outputs": [],
   "source": [
    "pathlist = Path('/home/westac/Documents/blm/corpus/editions').rglob('content.xhtml')\n",
    "txt_rows=[]\n",
    "csv_rows=[]\n",
    "article_index=0\n",
    "for path in pathlist:\n",
    "\n",
    "    edition_id=path.parent.parent.stem\n",
    "    year=metadata.loc[metadata['edition_id'] ==edition_id]['year'].item()\n",
    "    tree = ET.ElementTree(etree.parse(path))\n",
    "    for article in tree.iterfind('.//{http://www.w3.org/1999/xhtml}article'):\n",
    "        article_content = ''.join(article.itertext())\n",
    "        Article_name=edition_id+str(article_index)\n",
    "\n",
    "        txt_row=[str(article_index),'0',article_content]\n",
    "        csv_row=[Article_name,str(article_index),str(year)]\n",
    "        txt_rows.append(txt_row)\n",
    "        csv_rows.append(csv_row)\n",
    "        article_index+=1"
   ]
  },
  {
   "cell_type": "code",
   "execution_count": 49,
   "metadata": {},
   "outputs": [],
   "source": [
    "with open('input.txt', 'w') as f:\n",
    "    for row in txt_rows:\n",
    "        f.write('\\t'.join(row))\n",
    "        f.write('\\n')"
   ]
  }
 ],
 "metadata": {
  "kernelspec": {
   "display_name": "Python 3",
   "language": "python",
   "name": "python3"
  },
  "language_info": {
   "codemirror_mode": {
    "name": "ipython",
    "version": 3
   },
   "file_extension": ".py",
   "mimetype": "text/x-python",
   "name": "python",
   "nbconvert_exporter": "python",
   "pygments_lexer": "ipython3",
   "version": "3.8.10"
  },
  "orig_nbformat": 4
 },
 "nbformat": 4,
 "nbformat_minor": 2
}
