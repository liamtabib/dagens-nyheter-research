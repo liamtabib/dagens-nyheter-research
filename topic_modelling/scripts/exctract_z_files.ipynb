{
 "cells": [
  {
   "cell_type": "code",
   "execution_count": null,
   "metadata": {},
   "outputs": [],
   "source": [
    "from pathlib import Path\n",
    "import re\n",
    "#TODO select three z-files based on criterion, and move them to z_files directory\n",
    "def get_z_filepaths(root, cfg):\n",
    "\tp = Path(root)\n",
    "\tz_files = list(p.glob('default/z_[0-9]*.csv'))\n",
    "\titerations = int(cfg.get('iterations'))\n",
    "\tpercent_burn_in = int(cfg.get('phi_mean_burnin', 0)) / 100\n",
    "\tburn_in = iterations * percent_burn_in\n",
    "\tpattern = r'(?:z_)([0-9]+)(?:.csv)'\n",
    "\tz_files = [f for f in z_files if burn_in <= int(re.search(pattern, str(f)).group(1))]\n",
    "\treturn z_files"
   ]
  },
  {
   "cell_type": "code",
   "execution_count": null,
   "metadata": {},
   "outputs": [],
   "source": []
  }
 ],
 "metadata": {
  "language_info": {
   "name": "python"
  },
  "orig_nbformat": 4
 },
 "nbformat": 4,
 "nbformat_minor": 2
}
