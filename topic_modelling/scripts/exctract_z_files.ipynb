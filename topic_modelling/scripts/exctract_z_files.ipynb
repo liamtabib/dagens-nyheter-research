{
 "cells": [
  {
   "cell_type": "code",
   "execution_count": 23,
   "metadata": {},
   "outputs": [
    {
     "data": {
      "text/plain": [
       "datetime.datetime(2023, 7, 5, 20, 55, 6, 227375)"
      ]
     },
     "execution_count": 23,
     "metadata": {},
     "output_type": "execute_result"
    }
   ],
   "source": [
    "from datetime import datetime\n",
    "now = datetime.now()\n",
    "now"
   ]
  },
  {
   "cell_type": "code",
   "execution_count": 50,
   "metadata": {},
   "outputs": [
    {
     "name": "stdout",
     "output_type": "stream",
     "text": [
      "/Users/liamtabibzadeh/Documents/jobb/PartiallyCollapsedLDA/Runs/RunSuite2023-07-05--20_40_53\n"
     ]
    }
   ],
   "source": [
    "from pathlib import Path\n",
    "import random\n",
    "from glob import glob\n",
    "\n",
    "\n",
    "\n",
    "def find_runsuite(Path_to_runsuites_dir='/Users/liamtabibzadeh/Documents/jobb/PartiallyCollapsedLDA/Runs/*'):\n",
    "\n",
    "    dir_paths=glob('/Users/liamtabibzadeh/Documents/jobb/PartiallyCollapsedLDA/Runs/*') #add / after * ?\n",
    "\n",
    "    times=[]\n",
    "    for runsuite_path in dir_paths:\n",
    "\n",
    "        time_in_datetime = datetime.strptime(runsuite_path.split('/')[-1][8:], '%Y-%m-%d--%H_%M_%S')\n",
    "        times.append(time_in_datetime)\n",
    "\n",
    "    correct_time=max(times)\n",
    "    correct_time_in_string=correct_time.strftime('%Y-%m-%d--%H_%M_%S')\n",
    "\n",
    "    for runsuite_path in dir_paths:\n",
    "        if correct_time_in_string in runsuite_path:\n",
    "            return runsuite_path"
   ]
  },
  {
   "cell_type": "code",
   "execution_count": null,
   "metadata": {},
   "outputs": [],
   "source": [
    "\n",
    "\n",
    "p = Path('/Users/liamtabibzadeh/Documents/jobb/PartiallyCollapsedLDA/Runs')\n",
    "z_files = list(p.rglob('z_[0-9]*.csv'))\n",
    "indices_sample=random.sample(range(1,len(z_files)), 3)\n",
    "for index_sample in indices_sample:\n",
    "    z_files[index_sample]"
   ]
  },
  {
   "cell_type": "code",
   "execution_count": null,
   "metadata": {},
   "outputs": [],
   "source": []
  },
  {
   "cell_type": "code",
   "execution_count": null,
   "metadata": {},
   "outputs": [],
   "source": [
    "from pathlib import Path\n",
    "import random\n",
    "p = Path('/Users/liamtabibzadeh/Documents/jobb/PartiallyCollapsedLDA/Runs/RunSuite2023-07-05--18_46_49')\n",
    "z_files = list(p.rglob('z_[0-9]*.csv'))\n",
    "indices_sample=random.sample(range(1,len(z_files)), 3)\n",
    "for index_sample in indices_sample:\n",
    "    z_files[index_sample]"
   ]
  },
  {
   "cell_type": "code",
   "execution_count": null,
   "metadata": {},
   "outputs": [],
   "source": [
    "from pathlib import Path\n",
    "import re\n",
    "def get_z_filepaths(root, cfg):\n",
    "\tp = Path(root)\n",
    "\tz_files = list(p.glob('default/z_[0-9]*.csv'))\n",
    "\titerations = int(cfg.get('iterations'))\n",
    "\tpercent_burn_in = int(cfg.get('phi_mean_burnin', 0)) / 100\n",
    "\tburn_in = iterations * percent_burn_in\n",
    "\tpattern = r'(?:z_)([0-9]+)(?:.csv)'\n",
    "\tz_files = [f for f in z_files if burn_in <= int(re.search(pattern, str(f)).group(1))]\n",
    "\treturn z_files"
   ]
  },
  {
   "cell_type": "code",
   "execution_count": null,
   "metadata": {},
   "outputs": [],
   "source": []
  }
 ],
 "metadata": {
  "kernelspec": {
   "display_name": "base",
   "language": "python",
   "name": "python3"
  },
  "language_info": {
   "codemirror_mode": {
    "name": "ipython",
    "version": 3
   },
   "file_extension": ".py",
   "mimetype": "text/x-python",
   "name": "python",
   "nbconvert_exporter": "python",
   "pygments_lexer": "ipython3",
   "version": "3.10.9"
  },
  "orig_nbformat": 4
 },
 "nbformat": 4,
 "nbformat_minor": 2
}
