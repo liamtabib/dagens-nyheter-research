{
 "cells": [
  {
   "cell_type": "code",
   "execution_count": 48,
   "metadata": {},
   "outputs": [
    {
     "data": {
      "text/plain": [
       "66"
      ]
     },
     "execution_count": 48,
     "metadata": {},
     "output_type": "execute_result"
    }
   ],
   "source": [
    "import pandas as pd\n",
    "\n",
    "with open('../pclda_input/input.txt') as f:\n",
    "    n = sum(1 for line in f)\n",
    "\n",
    "n"
   ]
  },
  {
   "cell_type": "code",
   "execution_count": 57,
   "metadata": {},
   "outputs": [
    {
     "name": "stderr",
     "output_type": "stream",
     "text": [
      "0it [00:00, ?it/s]\n"
     ]
    },
    {
     "ename": "TypeError",
     "evalue": "sequence item 0: expected str instance, int found",
     "output_type": "error",
     "traceback": [
      "\u001b[0;31m---------------------------------------------------------------------------\u001b[0m",
      "\u001b[0;31mTypeError\u001b[0m                                 Traceback (most recent call last)",
      "Cell \u001b[0;32mIn[57], line 51\u001b[0m\n\u001b[1;32m     47\u001b[0m             writer\u001b[39m.\u001b[39mwrite(\u001b[39m\"\u001b[39m\u001b[39m\\n\u001b[39;00m\u001b[39m\"\u001b[39m\u001b[39m.\u001b[39mjoin(txt))\n\u001b[1;32m     50\u001b[0m \u001b[39mif\u001b[39;00m \u001b[39m__name__\u001b[39m \u001b[39m==\u001b[39m \u001b[39m\"\u001b[39m\u001b[39m__main__\u001b[39m\u001b[39m\"\u001b[39m:\n\u001b[0;32m---> 51\u001b[0m     main()\n",
      "Cell \u001b[0;32mIn[57], line 45\u001b[0m, in \u001b[0;36mmain\u001b[0;34m()\u001b[0m\n\u001b[1;32m     43\u001b[0m \u001b[39mfor\u001b[39;00m chunk \u001b[39min\u001b[39;00m tqdm(reader, total\u001b[39m=\u001b[39mn \u001b[39m/\u001b[39m\u001b[39m/\u001b[39m \u001b[39m1000\u001b[39m):\n\u001b[1;32m     44\u001b[0m     chunk\u001b[39m.\u001b[39miloc[:, \u001b[39m2\u001b[39m] \u001b[39m=\u001b[39m chunk\u001b[39m.\u001b[39miloc[:, \u001b[39m2\u001b[39m]\u001b[39m.\u001b[39mapply(process_text)\n\u001b[0;32m---> 45\u001b[0m     txt \u001b[39m=\u001b[39m [\u001b[39m\"\u001b[39m\u001b[39m\\t\u001b[39;00m\u001b[39m\"\u001b[39m\u001b[39m.\u001b[39mjoin(row) \u001b[39mfor\u001b[39;00m row \u001b[39min\u001b[39;00m chunk\u001b[39m.\u001b[39mvalues\u001b[39m.\u001b[39mtolist()]\n\u001b[1;32m     46\u001b[0m     \u001b[39m#print(txt)\u001b[39;00m\n\u001b[1;32m     47\u001b[0m     writer\u001b[39m.\u001b[39mwrite(\u001b[39m\"\u001b[39m\u001b[39m\\n\u001b[39;00m\u001b[39m\"\u001b[39m\u001b[39m.\u001b[39mjoin(txt))\n",
      "Cell \u001b[0;32mIn[57], line 45\u001b[0m, in \u001b[0;36m<listcomp>\u001b[0;34m(.0)\u001b[0m\n\u001b[1;32m     43\u001b[0m \u001b[39mfor\u001b[39;00m chunk \u001b[39min\u001b[39;00m tqdm(reader, total\u001b[39m=\u001b[39mn \u001b[39m/\u001b[39m\u001b[39m/\u001b[39m \u001b[39m1000\u001b[39m):\n\u001b[1;32m     44\u001b[0m     chunk\u001b[39m.\u001b[39miloc[:, \u001b[39m2\u001b[39m] \u001b[39m=\u001b[39m chunk\u001b[39m.\u001b[39miloc[:, \u001b[39m2\u001b[39m]\u001b[39m.\u001b[39mapply(process_text)\n\u001b[0;32m---> 45\u001b[0m     txt \u001b[39m=\u001b[39m [\u001b[39m\"\u001b[39;49m\u001b[39m\\t\u001b[39;49;00m\u001b[39m\"\u001b[39;49m\u001b[39m.\u001b[39;49mjoin(row) \u001b[39mfor\u001b[39;00m row \u001b[39min\u001b[39;00m chunk\u001b[39m.\u001b[39mvalues\u001b[39m.\u001b[39mtolist()]\n\u001b[1;32m     46\u001b[0m     \u001b[39m#print(txt)\u001b[39;00m\n\u001b[1;32m     47\u001b[0m     writer\u001b[39m.\u001b[39mwrite(\u001b[39m\"\u001b[39m\u001b[39m\\n\u001b[39;00m\u001b[39m\"\u001b[39m\u001b[39m.\u001b[39mjoin(txt))\n",
      "\u001b[0;31mTypeError\u001b[0m: sequence item 0: expected str instance, int found"
     ]
    }
   ],
   "source": [
    "import pandas as pd\n",
    "from unidecode import unidecode\n",
    "import re\n",
    "import random\n",
    "import argparse\n",
    "from tqdm import tqdm\n",
    "import re\n",
    "from pathlib import Path\n",
    "\n",
    "\n",
    "def multiple_replace(text, grams=None, i_start=192, i_end=383):\n",
    "    d = [chr(c) for c in range(i_start, i_end + 1)]\n",
    "    d = {c: unidecode(c) for c in d if c not in \"åäö\"}\n",
    "    regex = re.compile(\"(%s)\" % \"|\".join(map(re.escape, d.keys())))\n",
    "    return regex.sub(lambda mo: d[mo.string[mo.start() : mo.end()]], text)\n",
    "\n",
    "\n",
    "def process_text(text):\n",
    "    text = text.lower()\n",
    "    text = text.replace(\"-\", \"_\")\n",
    "    text = re.sub(r\"[^a-zåäö\\s\\_]\", \"\", text)\n",
    "    text = multiple_replace(text)\n",
    "\n",
    "    text = text.split()\n",
    "    text = [c.strip(\"_\") for c in text if len(c) > 1 and len(c) < 50]\n",
    "    random.shuffle(text)\n",
    "    text = \" \".join(text)\n",
    "    return text\n",
    "\n",
    "\n",
    "def main():\n",
    "  \n",
    "    with open('../pclda_input/input.txt') as f:\n",
    "        n = sum(1 for line in f)\n",
    "\n",
    "    outfile = '../pclda_input/input.txt'.replace(\".txt\", \"_clean.txt\")\n",
    "\n",
    "    # Reader and writer\n",
    "    with open(outfile, \"w\") as writer, pd.read_csv(\n",
    "        '../pclda_input/input.txt', sep=\"\\t\", header=None, chunksize=1000\n",
    "    ) as reader:\n",
    "        # Clean and write data in chunks\n",
    "        for chunk in tqdm(reader, total=n // 1000):\n",
    "            chunk.iloc[:, 2] = chunk.iloc[:, 2].apply(process_text)\n",
    "            txt = [\"\\t\".join(row) for row in chunk.values.tolist()]\n",
    "            #print(txt)\n",
    "            writer.write(\"\\n\".join(txt))\n",
    "\n",
    "\n",
    "if __name__ == \"__main__\":\n",
    "    main()"
   ]
  }
 ],
 "metadata": {
  "kernelspec": {
   "display_name": "base",
   "language": "python",
   "name": "python3"
  },
  "language_info": {
   "codemirror_mode": {
    "name": "ipython",
    "version": 3
   },
   "file_extension": ".py",
   "mimetype": "text/x-python",
   "name": "python",
   "nbconvert_exporter": "python",
   "pygments_lexer": "ipython3",
   "version": "3.10.9"
  },
  "orig_nbformat": 4
 },
 "nbformat": 4,
 "nbformat_minor": 2
}
